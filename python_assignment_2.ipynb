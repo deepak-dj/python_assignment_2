{
 "cells": [
  {
   "cell_type": "markdown",
   "id": "72a3454a-eca8-4ac8-a978-958963fe997b",
   "metadata": {},
   "source": [
    "# Python basic Assignment 2"
   ]
  },
  {
   "cell_type": "markdown",
   "id": "a7a638dc-a669-40f9-b6a9-7cca650d8e7d",
   "metadata": {},
   "source": [
    "#### ques 1\n",
    "- Two values of Boolean data type are **True** & **False**"
   ]
  },
  {
   "cell_type": "markdown",
   "id": "69d85571-0518-48ae-ba3f-a674360087d7",
   "metadata": {},
   "source": [
    "#### ques 2\n",
    "- 3 types of Boolean Operators are **AND, OR, NOT** "
   ]
  },
  {
   "cell_type": "markdown",
   "id": "b7c25a72-0fd6-4682-beec-8626b28baa02",
   "metadata": {},
   "source": [
    "#### ques 3\n",
    "- Boolean Operator's Truth Table\n",
    "\n",
    "\n",
    "**AND**\n",
    "\n",
    "- if True and False ---->   output = False\n",
    "- if False and False ----> output = False\n",
    "- if False and True ----> output = False\n",
    "- if True and True ----> output = True\n",
    "\n",
    "**OR**\n",
    "\n",
    "- if False or False ---->   output = False\n",
    "- if True or False ----> output = True\n",
    "- if False or True ----> output = True\n",
    "- if True or True ----> output = True\n",
    "\n",
    "**==**\n",
    "- if  False ==  False ---->   output = True\n",
    "- if  True ==  False ----> output = False\n",
    "- if  False ==  True ----> output = False\n",
    "- if  True ==  True ----> output = True\n",
    "\n"
   ]
  },
  {
   "cell_type": "markdown",
   "id": "1c6d42cb-58bd-4dc1-99c4-7002f70e5728",
   "metadata": {},
   "source": [
    "#### ques 4\n",
    "- (5 > 4) and (3 == 5) >>> **False**\n",
    "- not (5 > 4) >>> **False**\n",
    "- (5 > 4) or (3 == 5) >>> **True**\n",
    "- not ((5 > 4) or (3 == 5)) >>> **False**\n",
    "- (True and True) and (True == False) >>> **False**\n",
    "- (not False) or (not True) >>> **True**"
   ]
  },
  {
   "cell_type": "markdown",
   "id": "316cd038-c641-4183-a753-634f4bac37f7",
   "metadata": {},
   "source": [
    "#### quest 5\n",
    "\n",
    "- Six comparition operator\n",
    "- **>** (greater than)\n",
    "- **<** (less than)\n",
    "- **=** (equal)\n",
    "- **>=** (greater than and equal)\n",
    "- **<=** (less than and equal)\n",
    "- **!=** (not equal)"
   ]
  },
  {
   "cell_type": "markdown",
   "id": "a17318cd-a9ef-448a-b145-605b30b498ff",
   "metadata": {},
   "source": [
    "#### ques 6\n",
    "\n",
    "- Equal-to operator is represented by **==**, it is a comparision operator to check whether the values are same   or not, example >>> 1 == 1 return True where as 1 = 2 return False\n",
    "\n",
    "- Assignment operator is represented by **=**, it is used to assign a value to a varibale, example >>> x =         1,name = 'aman'"
   ]
  },
  {
   "cell_type": "markdown",
   "id": "c6bf06de-cb72-4483-b0f1-575c40833def",
   "metadata": {},
   "source": [
    "#### ques 7\n",
    "-\n",
    "- spam = 0\n",
    "- if spam == 10: #( **Block 1**)\n",
    "- print('eggs')\n",
    "- if spam > 5: #(**Block 2**)\n",
    "- print('bacon')\n",
    "- else: #(**Block 3**)\n",
    "- print('ham')\n",
    "- print('spam')\n",
    "- print('spam')"
   ]
  },
  {
   "cell_type": "code",
   "execution_count": 1,
   "id": "77fda9ac-1bd0-4797-82fd-2cacc30805c5",
   "metadata": {},
   "outputs": [
    {
     "name": "stdout",
     "output_type": "stream",
     "text": [
      "ham\n",
      "spam\n",
      "spam\n"
     ]
    }
   ],
   "source": [
    " spam = 0\n",
    "if spam == 10: #(Block 1)\n",
    "    print('eggs')\n",
    "if spam > 5: #(Block 2)\n",
    "    print('bacon')\n",
    "else: #(Block 3)\n",
    "    print('ham')\n",
    "    print('spam')\n",
    "    print('spam')"
   ]
  },
  {
   "cell_type": "markdown",
   "id": "2bdc79db-c907-4876-84f7-01497bfb1eb8",
   "metadata": {},
   "source": [
    "#### ques 8"
   ]
  },
  {
   "cell_type": "code",
   "execution_count": 2,
   "id": "965545ba-551b-470f-b7ec-521127ce8171",
   "metadata": {},
   "outputs": [
    {
     "name": "stdout",
     "output_type": "stream",
     "text": [
      "Greetings!\n"
     ]
    }
   ],
   "source": [
    " spam = 0\n",
    "if spam == 1: #(Block 1)\n",
    "    print('Hellow')\n",
    "elif spam > 2: #(Block 2)\n",
    "    print('Howdy')\n",
    "else: #(Block 3)\n",
    "    print('Greetings!')\n",
    "   "
   ]
  },
  {
   "cell_type": "markdown",
   "id": "8e264099-739a-4013-a62a-32e27b49fd4f",
   "metadata": {},
   "source": [
    "#### ques 9\n",
    "- If our programme is stuck in an endless loop, we should press **Ctrl+C**"
   ]
  },
  {
   "cell_type": "markdown",
   "id": "29e6061d-d3ad-467f-aace-d87533282377",
   "metadata": {},
   "source": [
    "#### ques 10\n",
    "- Break keyword is used to control the sequence of the loop. Suppose we want to terminate a loop and skip to       the next code after the loop,This can be achieve by Break Keyword\n",
    "- Continue keyword is used to end the current iteration in a for loop (or a while loop), and continues to the     next iteration."
   ]
  },
  {
   "cell_type": "markdown",
   "id": "3f4c8eb3-f320-43a2-9250-744e4d02b445",
   "metadata": {},
   "source": [
    "#### ques 11"
   ]
  },
  {
   "cell_type": "markdown",
   "id": "ff53f00f-79c1-4c1d-be6d-bf1ac56f6e80",
   "metadata": {},
   "source": [
    "In a for loop, There is no difference in output of these methods range(10), range(0, 10), and range(0, 10, 1)\n",
    "but the difference in the expression.\n",
    "- range(10) = in this method we have given only one parameter which reperesent that this method will range till   10-1 = 9\n",
    "- range(0,10) = in this method two parameters are given, first parameter represents that where the range should   start here it is 0 and second parameter represents the final range of the method which is 9 here\n",
    "- range(0,10,1) = in this method three parameters are given the first tow parameters work same as the above       method but here third parameter represnet the step which means how many step you want to jump to the value       within range, example range(0,10,2) in this it will skip the 1 number after zero and so on, the result will be\n",
    "  table of 2."
   ]
  },
  {
   "cell_type": "markdown",
   "id": "7c75b783-41e7-4bbb-ac1f-ce4ca159c3b5",
   "metadata": {},
   "source": [
    "#### ques 12\n",
    "-**For Loop**"
   ]
  },
  {
   "cell_type": "code",
   "execution_count": 3,
   "id": "6c78b21e-67c0-4a34-936e-83fb8cd1b00b",
   "metadata": {},
   "outputs": [
    {
     "name": "stdout",
     "output_type": "stream",
     "text": [
      "0\n",
      "1\n",
      "2\n",
      "3\n",
      "4\n",
      "5\n",
      "6\n",
      "7\n",
      "8\n",
      "9\n",
      "10\n"
     ]
    }
   ],
   "source": [
    "for i in range(11):\n",
    "    print(i)"
   ]
  },
  {
   "cell_type": "markdown",
   "id": "0559f300-ef01-41bf-aa5e-8a4001215675",
   "metadata": {},
   "source": [
    "**While Loop**"
   ]
  },
  {
   "cell_type": "code",
   "execution_count": 2,
   "id": "d6f02dee-c2e9-4f25-8847-c8df0eeb7b99",
   "metadata": {},
   "outputs": [
    {
     "name": "stdout",
     "output_type": "stream",
     "text": [
      "0\n",
      "1\n",
      "2\n",
      "3\n",
      "4\n",
      "5\n",
      "6\n",
      "7\n",
      "8\n",
      "9\n",
      "10\n"
     ]
    }
   ],
   "source": [
    "i = 0\n",
    "while i<=10:\n",
    "    print(i)\n",
    "    i+=1\n",
    "    "
   ]
  },
  {
   "cell_type": "markdown",
   "id": "cc7870e2-5b0b-45c4-a9d9-3886a632f7b4",
   "metadata": {
    "tags": []
   },
   "source": [
    "#### ques 13\n",
    "- If we had a function named bacon() inside a module named spam,  we can call it after\n",
    "importing spam as follows\n"
   ]
  },
  {
   "cell_type": "code",
   "execution_count": null,
   "id": "d14820f9-6016-4fda-a7f7-bc081090f778",
   "metadata": {},
   "outputs": [],
   "source": [
    "import spam\n",
    "spam.bacon()"
   ]
  },
  {
   "cell_type": "code",
   "execution_count": null,
   "id": "c1e0c6cf-95e4-49fa-991c-edc2fa07a115",
   "metadata": {},
   "outputs": [],
   "source": []
  }
 ],
 "metadata": {
  "kernelspec": {
   "display_name": "Python 3 (ipykernel)",
   "language": "python",
   "name": "python3"
  },
  "language_info": {
   "codemirror_mode": {
    "name": "ipython",
    "version": 3
   },
   "file_extension": ".py",
   "mimetype": "text/x-python",
   "name": "python",
   "nbconvert_exporter": "python",
   "pygments_lexer": "ipython3",
   "version": "3.9.12"
  }
 },
 "nbformat": 4,
 "nbformat_minor": 5
}
